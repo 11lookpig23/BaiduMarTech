{
 "cells": [
  {
   "cell_type": "markdown",
   "metadata": {
    "collapsed": false
   },
   "source": [
    "## Read data"
   ]
  },
  {
   "cell_type": "code",
   "execution_count": 3,
   "metadata": {
    "collapsed": false
   },
   "outputs": [],
   "source": [
    "import pandas as pd\n",
    "feat = pd.read_csv(\"/home/aistudio/data/data22449/date_feat.csv\")\n",
    "label = pd.read_csv(\"/home/aistudio/data/data22450/label.csv\")\n",
    "customer = pd.read_csv(\"work/customer.csv\")"
   ]
  },
  {
   "cell_type": "code",
   "execution_count": 4,
   "metadata": {
    "collapsed": false
   },
   "outputs": [],
   "source": [
    "#customer"
   ]
  },
  {
   "cell_type": "code",
   "execution_count": 5,
   "metadata": {
    "collapsed": false
   },
   "outputs": [
    {
     "data": {
      "text/plain": [
       "Index(['2012.11', '2012.12', '2013.1', '2013.2', '2013.3', '2013.4', '2013.5',\n",
       "       '2013.6', '2013.7', '2013.8'],\n",
       "      dtype='object')"
      ]
     },
     "execution_count": 5,
     "metadata": {},
     "output_type": "execute_result"
    }
   ],
   "source": [
    "nameli = label.columns\n",
    "nameli"
   ]
  },
  {
   "cell_type": "code",
   "execution_count": 6,
   "metadata": {
    "collapsed": false
   },
   "outputs": [],
   "source": [
    "import numpy as np"
   ]
  },
  {
   "cell_type": "code",
   "execution_count": 7,
   "metadata": {
    "collapsed": false
   },
   "outputs": [],
   "source": [
    "features = feat.values\n",
    "#features"
   ]
  },
  {
   "cell_type": "code",
   "execution_count": 29,
   "metadata": {
    "collapsed": false
   },
   "outputs": [],
   "source": [
    "f1 = features[:,0:3]\n",
    "f2 = features[:,3:7]\n",
    "f3 = features[:,7:]"
   ]
  },
  {
   "cell_type": "code",
   "execution_count": 30,
   "metadata": {
    "collapsed": false
   },
   "outputs": [],
   "source": [
    "feat1 = [[x] for x in np.sum(f1,axis= 1)]\n",
    "feat2 = [[x] for x in np.sum(f2,axis= 1)]\n",
    "feat3 = [[x] for x in np.sum(f3,axis= 1)]"
   ]
  },
  {
   "cell_type": "markdown",
   "metadata": {
    "collapsed": false
   },
   "source": [
    "### Get train set"
   ]
  },
  {
   "cell_type": "code",
   "execution_count": null,
   "metadata": {
    "collapsed": false
   },
   "outputs": [],
   "source": [
    "## train_set:== 3,4,5,6-->7\n",
    "##              4,5,6,7-->8\n",
    "##              5,6,7,8-->9"
   ]
  },
  {
   "cell_type": "code",
   "execution_count": null,
   "metadata": {
    "collapsed": false
   },
   "outputs": [],
   "source": []
  },
  {
   "cell_type": "code",
   "execution_count": 35,
   "metadata": {
    "collapsed": false
   },
   "outputs": [],
   "source": [
    "Xa = features[:,3:7]\n",
    "Xa = np.hstack((Xa,customer,feat1))\n",
    "ya = label[nameli[7]].values"
   ]
  },
  {
   "cell_type": "code",
   "execution_count": 36,
   "metadata": {
    "collapsed": false
   },
   "outputs": [],
   "source": [
    "Xb = features[:,4:8]\n",
    "Xb = np.hstack((Xb,customer,feat1))\n",
    "yb = label[nameli[8]].values"
   ]
  },
  {
   "cell_type": "code",
   "execution_count": 37,
   "metadata": {
    "collapsed": false
   },
   "outputs": [],
   "source": [
    "Xc = features[:,5:9]\n",
    "Xc = np.hstack((Xc,customer,feat1))\n",
    "yc = label[nameli[9]].values"
   ]
  },
  {
   "cell_type": "code",
   "execution_count": 50,
   "metadata": {
    "collapsed": false
   },
   "outputs": [],
   "source": [
    "X = np.vstack((Xa,Xb,Xc))\n",
    "y = np.hstack((ya,yb,yc))"
   ]
  },
  {
   "cell_type": "code",
   "execution_count": 47,
   "metadata": {
    "collapsed": false
   },
   "outputs": [
    {
     "data": {
      "text/plain": [
       "(4757958, 8)"
      ]
     },
     "execution_count": 47,
     "metadata": {},
     "output_type": "execute_result"
    }
   ],
   "source": [
    "X.shape"
   ]
  },
  {
   "cell_type": "code",
   "execution_count": 51,
   "metadata": {
    "collapsed": false
   },
   "outputs": [
    {
     "data": {
      "text/plain": [
       "(4757958,)"
      ]
     },
     "execution_count": 51,
     "metadata": {},
     "output_type": "execute_result"
    }
   ],
   "source": [
    "y.shape"
   ]
  },
  {
   "cell_type": "code",
   "execution_count": 40,
   "metadata": {
    "collapsed": false
   },
   "outputs": [],
   "source": [
    "X1 = features[:,6:10]\n",
    "X1 = np.hstack((X1,customer,feat1))\n",
    "y1 = label[nameli[9]].values"
   ]
  },
  {
   "cell_type": "code",
   "execution_count": 44,
   "metadata": {
    "collapsed": false
   },
   "outputs": [
    {
     "data": {
      "text/plain": [
       "(4757958, 8)"
      ]
     },
     "execution_count": 44,
     "metadata": {},
     "output_type": "execute_result"
    }
   ],
   "source": [
    "X.shape"
   ]
  },
  {
   "cell_type": "markdown",
   "metadata": {
    "collapsed": false
   },
   "source": [
    "## focal LightGbm"
   ]
  },
  {
   "cell_type": "code",
   "execution_count": 45,
   "metadata": {
    "collapsed": false
   },
   "outputs": [],
   "source": [
    "def sigmoid(x): \n",
    "    return 1./(1. +  np.exp(-x))\n",
    "\n",
    "def softmax(x):\n",
    "    exp_x = np.exp(x - np.max(x))\n",
    "    return exp_x / (np.sum(exp_x, axis=1, keepdims=True) + 1e-6)"
   ]
  },
  {
   "cell_type": "code",
   "execution_count": 16,
   "metadata": {
    "collapsed": false
   },
   "outputs": [],
   "source": [
    "def focal_loss_lgb(y_pred, dtrain, alpha, gamma, num_class):\n",
    "    \"\"\"\n",
    "    Focal Loss for lightgbm\n",
    "\n",
    "    Parameters:\n",
    "    -----------\n",
    "    y_pred: numpy.ndarray\n",
    "        array with the predictions\n",
    "    dtrain: lightgbm.Dataset\n",
    "    alpha, gamma: float\n",
    "        See original paper https://arxiv.org/pdf/1708.02002.pdf\n",
    "    num_class: int\n",
    "        number of classes\n",
    "    \"\"\"\n",
    "    a,g = alpha, gamma\n",
    "    y_true = dtrain.label\n",
    "    # N observations x num_class arrays\n",
    "    y_true = np.eye(num_class)[y_true.astype('int')]\n",
    "    y_pred = y_pred.reshape(-1,num_class, order='F')\n",
    "    # alpha and gamma multiplicative factors with BCEWithLogitsLoss\n",
    "    def fl(x,t):\n",
    "        p = 1/(1+np.exp(-x))\n",
    "        return -( a*t + (1-a)*(1-t) ) * (( 1 - ( t*p + (1-t)*(1-p)) )**g) * ( t*np.log(p)+(1-t)*np.log(1-p) )\n",
    "    partial_fl = lambda x: fl(x, y_true)\n",
    "    grad = derivative(partial_fl, y_pred, n=1, dx=1e-6)\n",
    "    hess = derivative(partial_fl, y_pred, n=2, dx=1e-6)\n",
    "    # flatten in column-major (Fortran-style) order\n",
    "    return grad.flatten('F'), hess.flatten('F')"
   ]
  },
  {
   "cell_type": "code",
   "execution_count": 17,
   "metadata": {
    "collapsed": false
   },
   "outputs": [],
   "source": [
    "def focal_loss_lgb_eval_error(y_pred, dtrain, alpha, gamma, num_class):\n",
    "    \"\"\"\n",
    "    Focal Loss for lightgbm\n",
    "\n",
    "    Parameters:\n",
    "    -----------\n",
    "    y_pred: numpy.ndarray\n",
    "        array with the predictions\n",
    "    dtrain: lightgbm.Dataset\n",
    "    alpha, gamma: float\n",
    "        See original paper https://arxiv.org/pdf/1708.02002.pdf\n",
    "    num_class: int\n",
    "        number of classes\n",
    "    \"\"\"\n",
    "    a,g = alpha, gamma\n",
    "    y_true = dtrain.label\n",
    "    y_true = np.eye(num_class)[y_true.astype('int')]\n",
    "    y_pred = y_pred.reshape(-1, num_class, order='F')\n",
    "    p = 1/(1+np.exp(-y_pred))\n",
    "    loss = -( a*y_true + (1-a)*(1-y_true) ) * (( 1 - ( y_true*p + (1-y_true)*(1-p)) )**g) * ( y_true*np.log(p)+(1-y_true)*np.log(1-p) )\n",
    "    # a variant can be np.sum(loss)/num_class\n",
    "    return 'focal_loss', np.mean(loss), False"
   ]
  },
  {
   "cell_type": "code",
   "execution_count": 19,
   "metadata": {
    "collapsed": false
   },
   "outputs": [],
   "source": [
    "import numpy as np\n",
    "import lightgbm as lgb\n",
    "\n",
    "from sklearn import datasets\n",
    "from sklearn.model_selection import train_test_split\n",
    "from sklearn.metrics import  accuracy_score\n",
    "from scipy.misc import derivative\n",
    "\n",
    "# very inadequate dataset as is perfectly balanced, but just to illustrate\n",
    "#digits = datasets.load_digits()\n",
    "#X = digits.data\n",
    "#y = digits.target\n"
   ]
  },
  {
   "cell_type": "code",
   "execution_count": 52,
   "metadata": {
    "collapsed": false
   },
   "outputs": [],
   "source": [
    "X_tr, X_val, y_tr, y_val = train_test_split(X, y, test_size=0.25, random_state=1)\n",
    "lgbtrain = lgb.Dataset(X_tr, y_tr, free_raw_data=True)\n",
    "lgbeval = lgb.Dataset(X_val, y_val)"
   ]
  },
  {
   "cell_type": "code",
   "execution_count": 74,
   "metadata": {
    "collapsed": false
   },
   "outputs": [
    {
     "name": "stderr",
     "output_type": "stream",
     "text": [
      "/opt/conda/envs/python35-paddle120-env/lib/python3.7/site-packages/lightgbm/engine.py:148: UserWarning: Found `num_boost_round` in params. Will use it instead of argument\n",
      "  warnings.warn(\"Found `{}` in params. Will use it instead of argument\".format(alias))\n"
     ]
    },
    {
     "name": "stdout",
     "output_type": "stream",
     "text": [
      "[1]\tvalid_0's focal_loss: 0.0771087\n",
      "[2]\tvalid_0's focal_loss: 0.0689107\n",
      "[3]\tvalid_0's focal_loss: 0.0618379\n",
      "[4]\tvalid_0's focal_loss: 0.055716\n",
      "[5]\tvalid_0's focal_loss: 0.0504037\n",
      "[6]\tvalid_0's focal_loss: 0.0457813\n",
      "[7]\tvalid_0's focal_loss: 0.0417533\n",
      "[8]\tvalid_0's focal_loss: 0.0382355\n",
      "[9]\tvalid_0's focal_loss: 0.0351591\n",
      "[10]\tvalid_0's focal_loss: 0.0324645\n",
      "[11]\tvalid_0's focal_loss: 0.0301029\n",
      "[12]\tvalid_0's focal_loss: 0.0280296\n",
      "[13]\tvalid_0's focal_loss: 0.0262083\n",
      "[14]\tvalid_0's focal_loss: 0.0246058\n",
      "[15]\tvalid_0's focal_loss: 0.0231952\n",
      "[16]\tvalid_0's focal_loss: 0.0219524\n",
      "[17]\tvalid_0's focal_loss: 0.0208573\n",
      "[18]\tvalid_0's focal_loss: 0.019891\n",
      "[19]\tvalid_0's focal_loss: 0.0190383\n",
      "[20]\tvalid_0's focal_loss: 0.0182851\n"
     ]
    }
   ],
   "source": [
    "focal_loss = lambda x,y: focal_loss_lgb(x, y, 0.1, 2., 2)\n",
    "eval_error = lambda x,y: focal_loss_lgb_eval_error(x, y, 0.1, 2., 2)\n",
    "params  = {'learning_rate':0.1, 'num_boost_round':20, 'num_class':2}#,\"reg_alpha\":0.5, \"reg_lambda\":0.8}\n",
    "# model = lgb.train(params, lgbtrain, fobj=focal_loss)\n",
    "model = lgb.train(params, lgbtrain, valid_sets=[lgbeval], fobj=focal_loss, feval=eval_error)"
   ]
  },
  {
   "cell_type": "code",
   "execution_count": 75,
   "metadata": {
    "collapsed": false
   },
   "outputs": [],
   "source": [
    "w1= 4.5\n",
    "\n",
    "def eval_metric(l,y):\n",
    "    p = 1.0/(1.0+np.exp(-y))\n",
    "    cross =-sum( w1*l*np.log(p)+(1-l)*np.log(1-p))/1585986\n",
    "    print(\"cross+++\",cross)\n",
    "    score = 100 - (cross-0.6)*100\n",
    "    return score"
   ]
  },
  {
   "cell_type": "code",
   "execution_count": 76,
   "metadata": {
    "collapsed": false
   },
   "outputs": [
    {
     "data": {
      "text/plain": [
       "array([[ 0.93299034, -1.13075003],\n",
       "       [ 0.38294125, -1.10210389],\n",
       "       [-0.46514325, -0.8270531 ],\n",
       "       ...,\n",
       "       [ 0.40197925, -1.12032918],\n",
       "       [ 0.66328489, -1.12032918],\n",
       "       [-0.03478062, -1.04240361]])"
      ]
     },
     "execution_count": 76,
     "metadata": {},
     "output_type": "execute_result"
    }
   ],
   "source": [
    "ans = model.predict(X1)\n",
    "ans"
   ]
  },
  {
   "cell_type": "code",
   "execution_count": 77,
   "metadata": {
    "collapsed": false
   },
   "outputs": [
    {
     "data": {
      "text/plain": [
       "array([0.24402271, 0.2493459 , 0.30426854, ..., 0.24595023, 0.24595023,\n",
       "       0.26068648])"
      ]
     },
     "execution_count": 77,
     "metadata": {},
     "output_type": "execute_result"
    }
   ],
   "source": [
    "y_pred = sigmoid(ans)[:,1]\n",
    "y_pred"
   ]
  },
  {
   "cell_type": "code",
   "execution_count": 69,
   "metadata": {
    "collapsed": false
   },
   "outputs": [
    {
     "name": "stdout",
     "output_type": "stream",
     "text": [
      "cross+++ 0.9756889730609354\n"
     ]
    },
    {
     "data": {
      "text/plain": [
       "62.43110269390646"
      ]
     },
     "execution_count": 69,
     "metadata": {},
     "output_type": "execute_result"
    }
   ],
   "source": [
    "eval_metric(y1,y_pred)"
   ]
  },
  {
   "cell_type": "code",
   "execution_count": 58,
   "metadata": {
    "collapsed": false
   },
   "outputs": [
    {
     "name": "stdout",
     "output_type": "stream",
     "text": [
      "--2020-02-29 01:48:07--  http://ai-studio-static.bj.bcebos.com/script/submit.sh\r\n",
      "Resolving ai-studio-static.bj.bcebos.com (ai-studio-static.bj.bcebos.com)... 100.64.253.38, 100.64.253.37\r\n",
      "Connecting to ai-studio-static.bj.bcebos.com (ai-studio-static.bj.bcebos.com)|100.64.253.38|:80... connected.\r\n",
      "HTTP request sent, awaiting response... 200 OK\r\n",
      "Length: 340 [text/x-sh]\r\n",
      "Saving to: ‘submit.sh’\r\n",
      "\r\n",
      "submit.sh           100%[===================>]     340  --.-KB/s    in 0s      \r\n",
      "\r\n",
      "2020-02-29 01:48:07 (116 MB/s) - ‘submit.sh’ saved [340/340]\r\n",
      "\r\n"
     ]
    }
   ],
   "source": [
    "!rm -rf submit.sh\n",
    "!wget -O submit.sh http://ai-studio-static.bj.bcebos.com/script/submit.sh"
   ]
  },
  {
   "cell_type": "code",
   "execution_count": 59,
   "metadata": {
    "collapsed": false
   },
   "outputs": [],
   "source": [
    "subm = pd.read_csv(\"work/submission.csv\")"
   ]
  },
  {
   "cell_type": "code",
   "execution_count": 64,
   "metadata": {
    "collapsed": false
   },
   "outputs": [
    {
     "data": {
      "text/html": [
       "<div>\n",
       "<style scoped>\n",
       "    .dataframe tbody tr th:only-of-type {\n",
       "        vertical-align: middle;\n",
       "    }\n",
       "\n",
       "    .dataframe tbody tr th {\n",
       "        vertical-align: top;\n",
       "    }\n",
       "\n",
       "    .dataframe thead th {\n",
       "        text-align: right;\n",
       "    }\n",
       "</style>\n",
       "<table border=\"1\" class=\"dataframe\">\n",
       "  <thead>\n",
       "    <tr style=\"text-align: right;\">\n",
       "      <th></th>\n",
       "      <th>customer_id</th>\n",
       "      <th>result</th>\n",
       "    </tr>\n",
       "  </thead>\n",
       "  <tbody>\n",
       "    <tr>\n",
       "      <th>0</th>\n",
       "      <td>1000000</td>\n",
       "      <td>0.052968</td>\n",
       "    </tr>\n",
       "    <tr>\n",
       "      <th>1</th>\n",
       "      <td>1000014</td>\n",
       "      <td>0.110468</td>\n",
       "    </tr>\n",
       "    <tr>\n",
       "      <th>2</th>\n",
       "      <td>1000034</td>\n",
       "      <td>0.256183</td>\n",
       "    </tr>\n",
       "    <tr>\n",
       "      <th>3</th>\n",
       "      <td>1000046</td>\n",
       "      <td>0.071670</td>\n",
       "    </tr>\n",
       "    <tr>\n",
       "      <th>4</th>\n",
       "      <td>1000048</td>\n",
       "      <td>0.051451</td>\n",
       "    </tr>\n",
       "  </tbody>\n",
       "</table>\n",
       "</div>"
      ],
      "text/plain": [
       "   customer_id    result\n",
       "0      1000000  0.052968\n",
       "1      1000014  0.110468\n",
       "2      1000034  0.256183\n",
       "3      1000046  0.071670\n",
       "4      1000048  0.051451"
      ]
     },
     "execution_count": 64,
     "metadata": {},
     "output_type": "execute_result"
    }
   ],
   "source": [
    "subm.head(5)"
   ]
  },
  {
   "cell_type": "code",
   "execution_count": 78,
   "metadata": {
    "collapsed": false
   },
   "outputs": [],
   "source": [
    "subm['result'] = y_pred"
   ]
  },
  {
   "cell_type": "code",
   "execution_count": 79,
   "metadata": {
    "collapsed": false
   },
   "outputs": [],
   "source": [
    "subm.to_csv(\"subm.csv\" ,index = False)"
   ]
  },
  {
   "cell_type": "code",
   "execution_count": 80,
   "metadata": {
    "collapsed": false
   },
   "outputs": [
    {
     "name": "stdout",
     "output_type": "stream",
     "text": [
      "--2020-02-29 02:19:47--  http://ai-studio-static.bj.bcebos.com/script/bce-python-sdk.zip\n",
      "Resolving ai-studio-static.bj.bcebos.com (ai-studio-static.bj.bcebos.com)... 100.64.253.37, 100.64.253.38\n",
      "Connecting to ai-studio-static.bj.bcebos.com (ai-studio-static.bj.bcebos.com)|100.64.253.37|:80... connected.\n",
      "HTTP request sent, awaiting response... 200 OK\n",
      "Length: 80914 (79K) [application/zip]\n",
      "Saving to: ‘bce-python-sdk.zip’\n",
      "\n",
      "bce-python-sdk.zip  100%[===================>]  79.02K  --.-KB/s    in 0.004s  \n",
      "\n",
      "2020-02-29 02:19:47 (17.4 MB/s) - ‘bce-python-sdk.zip’ saved [80914/80914]\n",
      "\n",
      "Archive:  bce-python-sdk.zip\n",
      "   creating: bce-python-sdk/\n",
      "   creating: bce-python-sdk/baidubce/\n",
      "  inflating: bce-python-sdk/baidubce/.DS_Store  \n",
      "   creating: bce-python-sdk/baidubce/.idea/\n",
      "  inflating: bce-python-sdk/baidubce/.idea/baidubce.iml  \n",
      "   creating: bce-python-sdk/baidubce/.idea/inspectionProfiles/\n",
      "   creating: bce-python-sdk/baidubce/.idea/markdown-navigator/\n",
      "  inflating: bce-python-sdk/baidubce/.idea/markdown-navigator/profiles_settings.xml  \n",
      "  inflating: bce-python-sdk/baidubce/.idea/markdown-navigator.xml  \n",
      "  inflating: bce-python-sdk/baidubce/.idea/misc.xml  \n",
      "  inflating: bce-python-sdk/baidubce/.idea/modules.xml  \n",
      "  inflating: bce-python-sdk/baidubce/.idea/workspace.xml  \n",
      "  inflating: bce-python-sdk/baidubce/__init__.py  \n",
      "  inflating: bce-python-sdk/baidubce/__init__.pyc  \n",
      "   creating: bce-python-sdk/baidubce/__pycache__/\n",
      "   creating: bce-python-sdk/baidubce/auth/\n",
      " extracting: bce-python-sdk/baidubce/auth/__init__.py  \n",
      "  inflating: bce-python-sdk/baidubce/auth/__init__.pyc  \n",
      "  inflating: bce-python-sdk/baidubce/auth/bce_credentials.py  \n",
      "  inflating: bce-python-sdk/baidubce/auth/bce_credentials.pyc  \n",
      "  inflating: bce-python-sdk/baidubce/auth/bce_v1_signer.py  \n",
      "  inflating: bce-python-sdk/baidubce/auth/bce_v1_signer.pyc  \n",
      "  inflating: bce-python-sdk/baidubce/bce_base_client.py  \n",
      "  inflating: bce-python-sdk/baidubce/bce_base_client.pyc  \n",
      "  inflating: bce-python-sdk/baidubce/bce_client_configuration.py  \n",
      "  inflating: bce-python-sdk/baidubce/bce_client_configuration.pyc  \n",
      "  inflating: bce-python-sdk/baidubce/bce_response.py  \n",
      "  inflating: bce-python-sdk/baidubce/bce_response.pyc  \n",
      "  inflating: bce-python-sdk/baidubce/exception.py  \n",
      "  inflating: bce-python-sdk/baidubce/exception.pyc  \n",
      "   creating: bce-python-sdk/baidubce/http/\n",
      " extracting: bce-python-sdk/baidubce/http/__init__.py  \n",
      "  inflating: bce-python-sdk/baidubce/http/__init__.pyc  \n",
      "  inflating: bce-python-sdk/baidubce/http/bce_http_client.py  \n",
      "  inflating: bce-python-sdk/baidubce/http/bce_http_client.pyc  \n",
      "  inflating: bce-python-sdk/baidubce/http/handler.py  \n",
      "  inflating: bce-python-sdk/baidubce/http/handler.pyc  \n",
      "  inflating: bce-python-sdk/baidubce/http/http_content_types.py  \n",
      "  inflating: bce-python-sdk/baidubce/http/http_content_types.pyc  \n",
      "  inflating: bce-python-sdk/baidubce/http/http_headers.py  \n",
      "  inflating: bce-python-sdk/baidubce/http/http_headers.pyc  \n",
      "  inflating: bce-python-sdk/baidubce/http/http_methods.py  \n",
      "  inflating: bce-python-sdk/baidubce/http/http_methods.pyc  \n",
      "  inflating: bce-python-sdk/baidubce/protocol.py  \n",
      "  inflating: bce-python-sdk/baidubce/protocol.pyc  \n",
      "  inflating: bce-python-sdk/baidubce/region.py  \n",
      "  inflating: bce-python-sdk/baidubce/region.pyc  \n",
      "  inflating: bce-python-sdk/baidubce/retry_policy.py  \n",
      "  inflating: bce-python-sdk/baidubce/retry_policy.pyc  \n",
      "   creating: bce-python-sdk/baidubce/services/\n",
      "  inflating: bce-python-sdk/baidubce/services/.DS_Store  \n",
      " extracting: bce-python-sdk/baidubce/services/__init__.py  \n",
      "  inflating: bce-python-sdk/baidubce/services/__init__.pyc  \n",
      "   creating: bce-python-sdk/baidubce/services/bos/\n",
      "  inflating: bce-python-sdk/baidubce/services/bos/__init__.py  \n",
      "  inflating: bce-python-sdk/baidubce/services/bos/__init__.pyc  \n",
      "  inflating: bce-python-sdk/baidubce/services/bos/bos_client.py  \n",
      "  inflating: bce-python-sdk/baidubce/services/bos/bos_client.pyc  \n",
      "  inflating: bce-python-sdk/baidubce/services/bos/bos_handler.py  \n",
      "  inflating: bce-python-sdk/baidubce/services/bos/bos_handler.pyc  \n",
      "  inflating: bce-python-sdk/baidubce/services/bos/canned_acl.py  \n",
      "  inflating: bce-python-sdk/baidubce/services/bos/storage_class.py  \n",
      "  inflating: bce-python-sdk/baidubce/services/bos/storage_class.pyc  \n",
      "   creating: bce-python-sdk/baidubce/services/sts/\n",
      "  inflating: bce-python-sdk/baidubce/services/sts/__init__.py  \n",
      "  inflating: bce-python-sdk/baidubce/services/sts/sts_client.py  \n",
      "  inflating: bce-python-sdk/baidubce/utils.py  \n",
      "  inflating: bce-python-sdk/baidubce/utils.pyc  \n",
      "  inflating: bce-python-sdk/README.txt  \n",
      "  inflating: bce-python-sdk/setup.py  \n",
      "--2020-02-29 02:19:47--  http://ai-studio-static.bj.bcebos.com/script/submit.py\n",
      "Resolving ai-studio-static.bj.bcebos.com (ai-studio-static.bj.bcebos.com)... 100.64.253.37, 100.64.253.38\n",
      "Connecting to ai-studio-static.bj.bcebos.com (ai-studio-static.bj.bcebos.com)|100.64.253.37|:80... connected.\n",
      "HTTP request sent, awaiting response... 200 OK\n",
      "Length: 5303 (5.2K) [text/x-python-script]\n",
      "Saving to: ‘submit.py’\n",
      "\n",
      "submit.py           100%[===================>]   5.18K  --.-KB/s    in 0s      \n",
      "\n",
      "2020-02-29 02:19:47 (605 MB/s) - ‘submit.py’ saved [5303/5303]\n",
      "\n",
      "--2020-02-29 02:19:47--  http://ai-studio-static.bj.bcebos.com/script/__init__.py\n",
      "Resolving ai-studio-static.bj.bcebos.com (ai-studio-static.bj.bcebos.com)... 100.64.253.38, 100.64.253.37\n",
      "Connecting to ai-studio-static.bj.bcebos.com (ai-studio-static.bj.bcebos.com)|100.64.253.38|:80... connected.\n",
      "HTTP request sent, awaiting response... 200 OK\n",
      "Length: 0 [text/x-python-script]\n",
      "Saving to: ‘__init__.py.16’\n",
      "\n",
      "__init__.py.16          [ <=>                ]       0  --.-KB/s    in 0s      \n",
      "\n",
      "2020-02-29 02:19:47 (0.00 B/s) - ‘__init__.py.16’ saved [0/0]\n",
      "\n",
      "开始提交\n",
      "0 / 44057727\n",
      "10485760 / 44057727\n",
      "20971520 / 44057727\n",
      "31457280 / 44057727\n",
      "41943040 / 44057727\n",
      "44057727 / 44057727\n",
      "提交成功，请耐心等待评测结果\n"
     ]
    }
   ],
   "source": [
    "!sh submit.sh \"subm.csv\" 02096e5f1617405ebcaa63308c18cb66"
   ]
  }
 ],
 "metadata": {
  "kernelspec": {
   "display_name": "PaddlePaddle 1.6.2 (Python 3.5)",
   "language": "python",
   "name": "py35-paddle1.2.0"
  },
  "language_info": {
   "codemirror_mode": {
    "name": "ipython",
    "version": 3
   },
   "file_extension": ".py",
   "mimetype": "text/x-python",
   "name": "python",
   "nbconvert_exporter": "python",
   "pygments_lexer": "ipython3",
   "version": "3.7.4"
  }
 },
 "nbformat": 4,
 "nbformat_minor": 1
}
